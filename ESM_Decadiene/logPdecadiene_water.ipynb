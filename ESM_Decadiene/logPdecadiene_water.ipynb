{
 "cells": [
  {
   "cell_type": "code",
   "execution_count": null,
   "metadata": {},
   "outputs": [],
   "source": [
    "#Load necessary libraries\n",
    "import numpy as np \n",
    "import pandas as pd \n",
    "import xgboost as xg \n",
    "from sklearn.model_selection import train_test_split \n",
    "from sklearn.metrics import mean_squared_error as MSE \n",
    "from sklearn.metrics import r2_score\n",
    "from scipy.stats import spearmanr, pearsonr\n",
    "from sklearn import linear_model\n",
    "from sklearn.ensemble import RandomForestRegressor"
   ]
  },
  {
   "cell_type": "code",
   "execution_count": null,
   "metadata": {},
   "outputs": [],
   "source": [
    "#Import and split data into test and training sets\n",
    "# Load the data \n",
    "dataset = pd.read_csv(\"fitting.csv\") \n",
    "X, y = dataset.iloc[:, :-1], dataset.iloc[:, -1] \n",
    "  \n",
    "# Splitting exmple with 30% data for testing. Choose for yourself. \n",
    "train_X, test_X, train_y, test_y = train_test_split(X, y, \n",
    "                      test_size = 0.3, random_state = 123) "
   ]
  },
  {
   "cell_type": "code",
   "execution_count": null,
   "metadata": {},
   "outputs": [],
   "source": [
    "#XGBoost\n",
    "\n",
    "xgb_r = xg.XGBRegressor(objective ='reg:squarederror', n_estimators=100, learning_rate=0.08, gamma=0, subsample=0.75,\n",
    "                           colsample_bytree=1, max_depth=7) \n",
    "\n",
    "# Fitting the model \n",
    "xgb_r.fit(train_X, train_y) \n",
    "  \n",
    "# Predict the model \n",
    "pred = xgb_r.predict(test_X) \n",
    "print(pred)  \n",
    "\n",
    "# RMSE Computation \n",
    "rmse = np.sqrt(MSE(test_y, pred)) \n",
    "print(rmse)\n",
    "\n",
    "#Check for the entire dataset \n",
    "xgb_r.fit(X, y)\n",
    "data_all = xgb_r.predict(X)\n",
    "rmse2 = np.sqrt(MSE(y, data_all)) \n",
    "print(rmse2)\n",
    "#print(data_all)\n",
    "spearman = spearmanr(test_y, pred)\n",
    "pearson = pearsonr(test_y, pred)\n",
    "spearman_all = spearmanr(y, data_all)\n",
    "pearson_all = pearsonr(y, data_all)\n",
    "print(spearman)\n",
    "print(pearson)\n",
    "print(spearman_all)\n",
    "print(pearson_all)"
   ]
  },
  {
   "cell_type": "code",
   "execution_count": null,
   "metadata": {},
   "outputs": [],
   "source": [
    "#Random forest Regressor\n",
    "rf = RandomForestRegressor(n_estimators=500, oob_score=True, random_state=0)\n",
    "rf.fit(train_X, train_y)\n",
    "\n",
    "predicted_train = rf.predict(train_X)\n",
    "predicted_test = rf.predict(test_X)\n",
    "predicted_all = rf.predict(X)\n",
    "\n",
    "rmse = np.sqrt(MSE(test_y, predicted_test))\n",
    "rmse2 = np.sqrt(MSE(y, predicted_all))\n",
    "print(predicted_all)\n",
    "test_score = r2_score(test_y, predicted_test)\n",
    "spearman = spearmanr(test_y, predicted_test)\n",
    "pearson = pearsonr(test_y, predicted_test)\n",
    "spearman_all = spearmanr(y, predicted_all)\n",
    "pearson_all = pearsonr(y, predicted_all) \n",
    "\n",
    "print(f'Out-of-bag R-2 score estimate: {rf.oob_score_:>5.3}')\n",
    "print(f'Test data R-2 score: {test_score:>5.3}')\n",
    "print(f'Test data Spearman correlation: {spearman[0]:.3}')\n",
    "print(f'Test data Pearson correlation: {pearson[0]:.3}')\n",
    "\n",
    "print(\"Spearman For Whole Data\", spearman_all)\n",
    "print(\"Pearson For Whole Data\", pearson_all)\n",
    "\n",
    "\n",
    "print(rmse)\n",
    "print(rmse2)"
   ]
  },
  {
   "cell_type": "code",
   "execution_count": null,
   "metadata": {},
   "outputs": [],
   "source": [
    "#Linear Regression\n",
    "lm = linear_model.LinearRegression()\n",
    "model = lm.fit(train_X,train_y)\n",
    "predictions = lm.predict(test_X)\n",
    "predictions2 = lm.predict(X)\n",
    "print(predictions2)\n",
    "rmse = np.sqrt(MSE(test_y, predictions))\n",
    "rmse2 = np.sqrt(MSE(y, predictions2))\n",
    "print(rmse)\n",
    "print(rmse2)\n",
    "spearman = spearmanr(test_y, predictions)\n",
    "pearson = pearsonr(test_y, predictions)\n",
    "spearman_all = spearmanr(y, predictions2)\n",
    "pearson_all = pearsonr(y, predictions2)\n",
    "print(spearman)\n",
    "print(pearson)\n",
    "print(spearman_all)\n",
    "print(pearson_all)"
   ]
  }
 ],
 "metadata": {
  "kernelspec": {
   "display_name": "Python 3",
   "language": "python",
   "name": "python3"
  },
  "language_info": {
   "codemirror_mode": {
    "name": "ipython",
    "version": 3
   },
   "file_extension": ".py",
   "mimetype": "text/x-python",
   "name": "python",
   "nbconvert_exporter": "python",
   "pygments_lexer": "ipython3",
   "version": "3.8.5"
  }
 },
 "nbformat": 4,
 "nbformat_minor": 4
}
